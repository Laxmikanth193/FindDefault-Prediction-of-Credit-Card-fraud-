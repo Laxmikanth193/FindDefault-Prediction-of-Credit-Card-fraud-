{
 "cells": [
  {
   "cell_type": "markdown",
   "id": "933272b5-c1f7-45e9-a98c-dac8013406fb",
   "metadata": {},
   "source": [
    "**Import the required libraries**"
   ]
  },
  {
   "cell_type": "code",
   "execution_count": 1,
   "id": "0ac11d31-7911-4ce4-a625-5a759a282b43",
   "metadata": {},
   "outputs": [],
   "source": [
    "import pandas as pd\n",
    "import numpy as np\n",
    "import seaborn as sns\n",
    "import matplotlib.pyplot as plt\n",
    "\n",
    "%matplotlib inline\n",
    "plt.style.use('ggplot')"
   ]
  },
  {
   "cell_type": "markdown",
   "id": "3df1d528-d35c-4e4f-b851-f037588e0b01",
   "metadata": {},
   "source": [
    "**Import the creditcard.csv data for the data preprocessing**"
   ]
  },
  {
   "cell_type": "code",
   "execution_count": 5,
   "id": "9819cbe3-d709-43e2-a87b-f90ba29827bd",
   "metadata": {},
   "outputs": [],
   "source": [
    "df = pd.read_csv(\"C:\\\\Users\\\\Lenovo\\\\Desktop\\\\Python\\\\creditcard.csv\")"
   ]
  },
  {
   "cell_type": "code",
   "execution_count": 6,
   "id": "debee87d-9379-4087-a280-db6ffa9dd95f",
   "metadata": {},
   "outputs": [
    {
     "data": {
      "text/html": [
       "<div>\n",
       "<style scoped>\n",
       "    .dataframe tbody tr th:only-of-type {\n",
       "        vertical-align: middle;\n",
       "    }\n",
       "\n",
       "    .dataframe tbody tr th {\n",
       "        vertical-align: top;\n",
       "    }\n",
       "\n",
       "    .dataframe thead th {\n",
       "        text-align: right;\n",
       "    }\n",
       "</style>\n",
       "<table border=\"1\" class=\"dataframe\">\n",
       "  <thead>\n",
       "    <tr style=\"text-align: right;\">\n",
       "      <th></th>\n",
       "      <th>Time</th>\n",
       "      <th>V1</th>\n",
       "      <th>V2</th>\n",
       "      <th>V3</th>\n",
       "      <th>V4</th>\n",
       "      <th>V5</th>\n",
       "      <th>V6</th>\n",
       "      <th>V7</th>\n",
       "      <th>V8</th>\n",
       "      <th>V9</th>\n",
       "      <th>...</th>\n",
       "      <th>V21</th>\n",
       "      <th>V22</th>\n",
       "      <th>V23</th>\n",
       "      <th>V24</th>\n",
       "      <th>V25</th>\n",
       "      <th>V26</th>\n",
       "      <th>V27</th>\n",
       "      <th>V28</th>\n",
       "      <th>Amount</th>\n",
       "      <th>Class</th>\n",
       "    </tr>\n",
       "  </thead>\n",
       "  <tbody>\n",
       "    <tr>\n",
       "      <th>0</th>\n",
       "      <td>0.0</td>\n",
       "      <td>-1.359807</td>\n",
       "      <td>-0.072781</td>\n",
       "      <td>2.536347</td>\n",
       "      <td>1.378155</td>\n",
       "      <td>-0.338321</td>\n",
       "      <td>0.462388</td>\n",
       "      <td>0.239599</td>\n",
       "      <td>0.098698</td>\n",
       "      <td>0.363787</td>\n",
       "      <td>...</td>\n",
       "      <td>-0.018307</td>\n",
       "      <td>0.277838</td>\n",
       "      <td>-0.110474</td>\n",
       "      <td>0.066928</td>\n",
       "      <td>0.128539</td>\n",
       "      <td>-0.189115</td>\n",
       "      <td>0.133558</td>\n",
       "      <td>-0.021053</td>\n",
       "      <td>149.62</td>\n",
       "      <td>0</td>\n",
       "    </tr>\n",
       "    <tr>\n",
       "      <th>1</th>\n",
       "      <td>0.0</td>\n",
       "      <td>1.191857</td>\n",
       "      <td>0.266151</td>\n",
       "      <td>0.166480</td>\n",
       "      <td>0.448154</td>\n",
       "      <td>0.060018</td>\n",
       "      <td>-0.082361</td>\n",
       "      <td>-0.078803</td>\n",
       "      <td>0.085102</td>\n",
       "      <td>-0.255425</td>\n",
       "      <td>...</td>\n",
       "      <td>-0.225775</td>\n",
       "      <td>-0.638672</td>\n",
       "      <td>0.101288</td>\n",
       "      <td>-0.339846</td>\n",
       "      <td>0.167170</td>\n",
       "      <td>0.125895</td>\n",
       "      <td>-0.008983</td>\n",
       "      <td>0.014724</td>\n",
       "      <td>2.69</td>\n",
       "      <td>0</td>\n",
       "    </tr>\n",
       "    <tr>\n",
       "      <th>2</th>\n",
       "      <td>1.0</td>\n",
       "      <td>-1.358354</td>\n",
       "      <td>-1.340163</td>\n",
       "      <td>1.773209</td>\n",
       "      <td>0.379780</td>\n",
       "      <td>-0.503198</td>\n",
       "      <td>1.800499</td>\n",
       "      <td>0.791461</td>\n",
       "      <td>0.247676</td>\n",
       "      <td>-1.514654</td>\n",
       "      <td>...</td>\n",
       "      <td>0.247998</td>\n",
       "      <td>0.771679</td>\n",
       "      <td>0.909412</td>\n",
       "      <td>-0.689281</td>\n",
       "      <td>-0.327642</td>\n",
       "      <td>-0.139097</td>\n",
       "      <td>-0.055353</td>\n",
       "      <td>-0.059752</td>\n",
       "      <td>378.66</td>\n",
       "      <td>0</td>\n",
       "    </tr>\n",
       "    <tr>\n",
       "      <th>3</th>\n",
       "      <td>1.0</td>\n",
       "      <td>-0.966272</td>\n",
       "      <td>-0.185226</td>\n",
       "      <td>1.792993</td>\n",
       "      <td>-0.863291</td>\n",
       "      <td>-0.010309</td>\n",
       "      <td>1.247203</td>\n",
       "      <td>0.237609</td>\n",
       "      <td>0.377436</td>\n",
       "      <td>-1.387024</td>\n",
       "      <td>...</td>\n",
       "      <td>-0.108300</td>\n",
       "      <td>0.005274</td>\n",
       "      <td>-0.190321</td>\n",
       "      <td>-1.175575</td>\n",
       "      <td>0.647376</td>\n",
       "      <td>-0.221929</td>\n",
       "      <td>0.062723</td>\n",
       "      <td>0.061458</td>\n",
       "      <td>123.50</td>\n",
       "      <td>0</td>\n",
       "    </tr>\n",
       "    <tr>\n",
       "      <th>4</th>\n",
       "      <td>2.0</td>\n",
       "      <td>-1.158233</td>\n",
       "      <td>0.877737</td>\n",
       "      <td>1.548718</td>\n",
       "      <td>0.403034</td>\n",
       "      <td>-0.407193</td>\n",
       "      <td>0.095921</td>\n",
       "      <td>0.592941</td>\n",
       "      <td>-0.270533</td>\n",
       "      <td>0.817739</td>\n",
       "      <td>...</td>\n",
       "      <td>-0.009431</td>\n",
       "      <td>0.798278</td>\n",
       "      <td>-0.137458</td>\n",
       "      <td>0.141267</td>\n",
       "      <td>-0.206010</td>\n",
       "      <td>0.502292</td>\n",
       "      <td>0.219422</td>\n",
       "      <td>0.215153</td>\n",
       "      <td>69.99</td>\n",
       "      <td>0</td>\n",
       "    </tr>\n",
       "    <tr>\n",
       "      <th>...</th>\n",
       "      <td>...</td>\n",
       "      <td>...</td>\n",
       "      <td>...</td>\n",
       "      <td>...</td>\n",
       "      <td>...</td>\n",
       "      <td>...</td>\n",
       "      <td>...</td>\n",
       "      <td>...</td>\n",
       "      <td>...</td>\n",
       "      <td>...</td>\n",
       "      <td>...</td>\n",
       "      <td>...</td>\n",
       "      <td>...</td>\n",
       "      <td>...</td>\n",
       "      <td>...</td>\n",
       "      <td>...</td>\n",
       "      <td>...</td>\n",
       "      <td>...</td>\n",
       "      <td>...</td>\n",
       "      <td>...</td>\n",
       "      <td>...</td>\n",
       "    </tr>\n",
       "    <tr>\n",
       "      <th>284802</th>\n",
       "      <td>172786.0</td>\n",
       "      <td>-11.881118</td>\n",
       "      <td>10.071785</td>\n",
       "      <td>-9.834783</td>\n",
       "      <td>-2.066656</td>\n",
       "      <td>-5.364473</td>\n",
       "      <td>-2.606837</td>\n",
       "      <td>-4.918215</td>\n",
       "      <td>7.305334</td>\n",
       "      <td>1.914428</td>\n",
       "      <td>...</td>\n",
       "      <td>0.213454</td>\n",
       "      <td>0.111864</td>\n",
       "      <td>1.014480</td>\n",
       "      <td>-0.509348</td>\n",
       "      <td>1.436807</td>\n",
       "      <td>0.250034</td>\n",
       "      <td>0.943651</td>\n",
       "      <td>0.823731</td>\n",
       "      <td>0.77</td>\n",
       "      <td>0</td>\n",
       "    </tr>\n",
       "    <tr>\n",
       "      <th>284803</th>\n",
       "      <td>172787.0</td>\n",
       "      <td>-0.732789</td>\n",
       "      <td>-0.055080</td>\n",
       "      <td>2.035030</td>\n",
       "      <td>-0.738589</td>\n",
       "      <td>0.868229</td>\n",
       "      <td>1.058415</td>\n",
       "      <td>0.024330</td>\n",
       "      <td>0.294869</td>\n",
       "      <td>0.584800</td>\n",
       "      <td>...</td>\n",
       "      <td>0.214205</td>\n",
       "      <td>0.924384</td>\n",
       "      <td>0.012463</td>\n",
       "      <td>-1.016226</td>\n",
       "      <td>-0.606624</td>\n",
       "      <td>-0.395255</td>\n",
       "      <td>0.068472</td>\n",
       "      <td>-0.053527</td>\n",
       "      <td>24.79</td>\n",
       "      <td>0</td>\n",
       "    </tr>\n",
       "    <tr>\n",
       "      <th>284804</th>\n",
       "      <td>172788.0</td>\n",
       "      <td>1.919565</td>\n",
       "      <td>-0.301254</td>\n",
       "      <td>-3.249640</td>\n",
       "      <td>-0.557828</td>\n",
       "      <td>2.630515</td>\n",
       "      <td>3.031260</td>\n",
       "      <td>-0.296827</td>\n",
       "      <td>0.708417</td>\n",
       "      <td>0.432454</td>\n",
       "      <td>...</td>\n",
       "      <td>0.232045</td>\n",
       "      <td>0.578229</td>\n",
       "      <td>-0.037501</td>\n",
       "      <td>0.640134</td>\n",
       "      <td>0.265745</td>\n",
       "      <td>-0.087371</td>\n",
       "      <td>0.004455</td>\n",
       "      <td>-0.026561</td>\n",
       "      <td>67.88</td>\n",
       "      <td>0</td>\n",
       "    </tr>\n",
       "    <tr>\n",
       "      <th>284805</th>\n",
       "      <td>172788.0</td>\n",
       "      <td>-0.240440</td>\n",
       "      <td>0.530483</td>\n",
       "      <td>0.702510</td>\n",
       "      <td>0.689799</td>\n",
       "      <td>-0.377961</td>\n",
       "      <td>0.623708</td>\n",
       "      <td>-0.686180</td>\n",
       "      <td>0.679145</td>\n",
       "      <td>0.392087</td>\n",
       "      <td>...</td>\n",
       "      <td>0.265245</td>\n",
       "      <td>0.800049</td>\n",
       "      <td>-0.163298</td>\n",
       "      <td>0.123205</td>\n",
       "      <td>-0.569159</td>\n",
       "      <td>0.546668</td>\n",
       "      <td>0.108821</td>\n",
       "      <td>0.104533</td>\n",
       "      <td>10.00</td>\n",
       "      <td>0</td>\n",
       "    </tr>\n",
       "    <tr>\n",
       "      <th>284806</th>\n",
       "      <td>172792.0</td>\n",
       "      <td>-0.533413</td>\n",
       "      <td>-0.189733</td>\n",
       "      <td>0.703337</td>\n",
       "      <td>-0.506271</td>\n",
       "      <td>-0.012546</td>\n",
       "      <td>-0.649617</td>\n",
       "      <td>1.577006</td>\n",
       "      <td>-0.414650</td>\n",
       "      <td>0.486180</td>\n",
       "      <td>...</td>\n",
       "      <td>0.261057</td>\n",
       "      <td>0.643078</td>\n",
       "      <td>0.376777</td>\n",
       "      <td>0.008797</td>\n",
       "      <td>-0.473649</td>\n",
       "      <td>-0.818267</td>\n",
       "      <td>-0.002415</td>\n",
       "      <td>0.013649</td>\n",
       "      <td>217.00</td>\n",
       "      <td>0</td>\n",
       "    </tr>\n",
       "  </tbody>\n",
       "</table>\n",
       "<p>284807 rows × 31 columns</p>\n",
       "</div>"
      ],
      "text/plain": [
       "            Time         V1         V2        V3        V4        V5  \\\n",
       "0            0.0  -1.359807  -0.072781  2.536347  1.378155 -0.338321   \n",
       "1            0.0   1.191857   0.266151  0.166480  0.448154  0.060018   \n",
       "2            1.0  -1.358354  -1.340163  1.773209  0.379780 -0.503198   \n",
       "3            1.0  -0.966272  -0.185226  1.792993 -0.863291 -0.010309   \n",
       "4            2.0  -1.158233   0.877737  1.548718  0.403034 -0.407193   \n",
       "...          ...        ...        ...       ...       ...       ...   \n",
       "284802  172786.0 -11.881118  10.071785 -9.834783 -2.066656 -5.364473   \n",
       "284803  172787.0  -0.732789  -0.055080  2.035030 -0.738589  0.868229   \n",
       "284804  172788.0   1.919565  -0.301254 -3.249640 -0.557828  2.630515   \n",
       "284805  172788.0  -0.240440   0.530483  0.702510  0.689799 -0.377961   \n",
       "284806  172792.0  -0.533413  -0.189733  0.703337 -0.506271 -0.012546   \n",
       "\n",
       "              V6        V7        V8        V9  ...       V21       V22  \\\n",
       "0       0.462388  0.239599  0.098698  0.363787  ... -0.018307  0.277838   \n",
       "1      -0.082361 -0.078803  0.085102 -0.255425  ... -0.225775 -0.638672   \n",
       "2       1.800499  0.791461  0.247676 -1.514654  ...  0.247998  0.771679   \n",
       "3       1.247203  0.237609  0.377436 -1.387024  ... -0.108300  0.005274   \n",
       "4       0.095921  0.592941 -0.270533  0.817739  ... -0.009431  0.798278   \n",
       "...          ...       ...       ...       ...  ...       ...       ...   \n",
       "284802 -2.606837 -4.918215  7.305334  1.914428  ...  0.213454  0.111864   \n",
       "284803  1.058415  0.024330  0.294869  0.584800  ...  0.214205  0.924384   \n",
       "284804  3.031260 -0.296827  0.708417  0.432454  ...  0.232045  0.578229   \n",
       "284805  0.623708 -0.686180  0.679145  0.392087  ...  0.265245  0.800049   \n",
       "284806 -0.649617  1.577006 -0.414650  0.486180  ...  0.261057  0.643078   \n",
       "\n",
       "             V23       V24       V25       V26       V27       V28  Amount  \\\n",
       "0      -0.110474  0.066928  0.128539 -0.189115  0.133558 -0.021053  149.62   \n",
       "1       0.101288 -0.339846  0.167170  0.125895 -0.008983  0.014724    2.69   \n",
       "2       0.909412 -0.689281 -0.327642 -0.139097 -0.055353 -0.059752  378.66   \n",
       "3      -0.190321 -1.175575  0.647376 -0.221929  0.062723  0.061458  123.50   \n",
       "4      -0.137458  0.141267 -0.206010  0.502292  0.219422  0.215153   69.99   \n",
       "...          ...       ...       ...       ...       ...       ...     ...   \n",
       "284802  1.014480 -0.509348  1.436807  0.250034  0.943651  0.823731    0.77   \n",
       "284803  0.012463 -1.016226 -0.606624 -0.395255  0.068472 -0.053527   24.79   \n",
       "284804 -0.037501  0.640134  0.265745 -0.087371  0.004455 -0.026561   67.88   \n",
       "284805 -0.163298  0.123205 -0.569159  0.546668  0.108821  0.104533   10.00   \n",
       "284806  0.376777  0.008797 -0.473649 -0.818267 -0.002415  0.013649  217.00   \n",
       "\n",
       "        Class  \n",
       "0           0  \n",
       "1           0  \n",
       "2           0  \n",
       "3           0  \n",
       "4           0  \n",
       "...       ...  \n",
       "284802      0  \n",
       "284803      0  \n",
       "284804      0  \n",
       "284805      0  \n",
       "284806      0  \n",
       "\n",
       "[284807 rows x 31 columns]"
      ]
     },
     "execution_count": 6,
     "metadata": {},
     "output_type": "execute_result"
    }
   ],
   "source": [
    "df"
   ]
  },
  {
   "cell_type": "code",
   "execution_count": 7,
   "id": "e2a3ab26-3b8a-49d8-a715-0497985b7b02",
   "metadata": {},
   "outputs": [
    {
     "name": "stdout",
     "output_type": "stream",
     "text": [
      "<class 'pandas.core.frame.DataFrame'>\n",
      "RangeIndex: 284807 entries, 0 to 284806\n",
      "Data columns (total 31 columns):\n",
      " #   Column  Non-Null Count   Dtype  \n",
      "---  ------  --------------   -----  \n",
      " 0   Time    284807 non-null  float64\n",
      " 1   V1      284807 non-null  float64\n",
      " 2   V2      284807 non-null  float64\n",
      " 3   V3      284807 non-null  float64\n",
      " 4   V4      284807 non-null  float64\n",
      " 5   V5      284807 non-null  float64\n",
      " 6   V6      284807 non-null  float64\n",
      " 7   V7      284807 non-null  float64\n",
      " 8   V8      284807 non-null  float64\n",
      " 9   V9      284807 non-null  float64\n",
      " 10  V10     284807 non-null  float64\n",
      " 11  V11     284807 non-null  float64\n",
      " 12  V12     284807 non-null  float64\n",
      " 13  V13     284807 non-null  float64\n",
      " 14  V14     284807 non-null  float64\n",
      " 15  V15     284807 non-null  float64\n",
      " 16  V16     284807 non-null  float64\n",
      " 17  V17     284807 non-null  float64\n",
      " 18  V18     284807 non-null  float64\n",
      " 19  V19     284807 non-null  float64\n",
      " 20  V20     284807 non-null  float64\n",
      " 21  V21     284807 non-null  float64\n",
      " 22  V22     284807 non-null  float64\n",
      " 23  V23     284807 non-null  float64\n",
      " 24  V24     284807 non-null  float64\n",
      " 25  V25     284807 non-null  float64\n",
      " 26  V26     284807 non-null  float64\n",
      " 27  V27     284807 non-null  float64\n",
      " 28  V28     284807 non-null  float64\n",
      " 29  Amount  284807 non-null  float64\n",
      " 30  Class   284807 non-null  int64  \n",
      "dtypes: float64(30), int64(1)\n",
      "memory usage: 67.4 MB\n"
     ]
    }
   ],
   "source": [
    "df.info()"
   ]
  },
  {
   "cell_type": "code",
   "execution_count": 8,
   "id": "af2f0bce-61cf-40d1-8708-9a6836b0b70e",
   "metadata": {},
   "outputs": [
    {
     "data": {
      "text/plain": [
       "Time      0\n",
       "V1        0\n",
       "V2        0\n",
       "V3        0\n",
       "V4        0\n",
       "V5        0\n",
       "V6        0\n",
       "V7        0\n",
       "V8        0\n",
       "V9        0\n",
       "V10       0\n",
       "V11       0\n",
       "V12       0\n",
       "V13       0\n",
       "V14       0\n",
       "V15       0\n",
       "V16       0\n",
       "V17       0\n",
       "V18       0\n",
       "V19       0\n",
       "V20       0\n",
       "V21       0\n",
       "V22       0\n",
       "V23       0\n",
       "V24       0\n",
       "V25       0\n",
       "V26       0\n",
       "V27       0\n",
       "V28       0\n",
       "Amount    0\n",
       "Class     0\n",
       "dtype: int64"
      ]
     },
     "execution_count": 8,
     "metadata": {},
     "output_type": "execute_result"
    }
   ],
   "source": [
    "df.isnull().sum()"
   ]
  },
  {
   "cell_type": "code",
   "execution_count": 9,
   "id": "224b2bf3-baaf-41af-994a-adbdab318678",
   "metadata": {},
   "outputs": [],
   "source": [
    "plt.rcParams['figure.figsize']=[8,6]"
   ]
  },
  {
   "cell_type": "code",
   "execution_count": 10,
   "id": "16ed783d-7f11-4818-b2c9-3b55b73ffa3c",
   "metadata": {},
   "outputs": [
    {
     "data": {
      "text/plain": [
       "Class\n",
       "0    284315\n",
       "1       492\n",
       "Name: count, dtype: int64"
      ]
     },
     "execution_count": 10,
     "metadata": {},
     "output_type": "execute_result"
    }
   ],
   "source": [
    "Class = df['Class'].value_counts()\n",
    "Class"
   ]
  },
  {
   "cell_type": "markdown",
   "id": "3ef8ca1b-99b6-40d3-9f9a-e96760c7a047",
   "metadata": {},
   "source": [
    "**The barplot will reveals a significant imbalance between classes (0-Non Fradulent) and (1-Fraudulent)**"
   ]
  },
  {
   "cell_type": "code",
   "execution_count": 11,
   "id": "8e54d1eb-7b22-420a-a357-98767bdfe569",
   "metadata": {},
   "outputs": [
    {
     "data": {
      "image/png": "[encoded data removed]",
      "text/plain": [
       "<Figure size 800x600 with 1 Axes>"
      ]
     },
     "metadata": {},
     "output_type": "display_data"
    }
   ],
   "source": [
    "labels = ['Non Fradulent','Fraudulent']\n",
    "plt.bar(labels, Class.values, color=['Green','Red'])\n",
    "plt.title(\"Non-Fraudulent Vs Fraudulent Transactions\")\n",
    "plt.xlabel('Class')\n",
    "plt.ylabel('Count')\n",
    "plt.savefig(\"Non-Fraudulent Vs Fraudulent Transactions\")\n",
    "plt.show()"
   ]
  },
  {
   "cell_type": "markdown",
   "id": "386d5954-3ebd-48a4-b36e-a073575fc8f8",
   "metadata": {},
   "source": [
    "**Majority of features are in PCA(Principal component analysis) form, with the exceptions being Time and Amount, a more in-depth examination of these two features is required**"
   ]
  },
  {
   "cell_type": "code",
   "execution_count": 12,
   "id": "fa758737-205b-4b3c-83bc-12835e7ac4ca",
   "metadata": {},
   "outputs": [
    {
     "data": {
      "text/plain": [
       "count    284807.000000\n",
       "mean      94813.859575\n",
       "std       47488.145955\n",
       "min           0.000000\n",
       "25%       54201.500000\n",
       "50%       84692.000000\n",
       "75%      139320.500000\n",
       "max      172792.000000\n",
       "Name: Time, dtype: float64"
      ]
     },
     "execution_count": 12,
     "metadata": {},
     "output_type": "execute_result"
    }
   ],
   "source": [
    "df['Time'].describe()"
   ]
  },
  {
   "cell_type": "code",
   "execution_count": 13,
   "id": "c4b7f244-15ef-45da-a624-a5794aa7b2d4",
   "metadata": {},
   "outputs": [
    {
     "data": {
      "text/plain": [
       "count    284807.000000\n",
       "mean         88.349619\n",
       "std         250.120109\n",
       "min           0.000000\n",
       "25%           5.600000\n",
       "50%          22.000000\n",
       "75%          77.165000\n",
       "max       25691.160000\n",
       "Name: Amount, dtype: float64"
      ]
     },
     "execution_count": 13,
     "metadata": {},
     "output_type": "execute_result"
    }
   ],
   "source": [
    "df['Amount'].describe()"
   ]
  },
  {
   "cell_type": "markdown",
   "id": "2b42b6a7-b00c-4edb-824d-2650ff065096",
   "metadata": {},
   "source": [
    "**Now we will check the number of occurances of each class label and we will plot the information using matplotlib**"
   ]
  },
  {
   "cell_type": "code",
   "execution_count": 14,
   "id": "55317ca5-5bf8-4632-9bdb-0ba7de332916",
   "metadata": {},
   "outputs": [],
   "source": [
    "non_fraud = len(df[df.Class==0])\n",
    "fraud = len(df[df.Class==1])\n",
    "fraud_percentage = round((fraud/ (fraud+ non_fraud)) * 100, 2)"
   ]
  },
  {
   "cell_type": "code",
   "execution_count": 15,
   "id": "667db97e-d569-4037-8f85-49e8f888b861",
   "metadata": {},
   "outputs": [
    {
     "name": "stdout",
     "output_type": "stream",
     "text": [
      "Number of Non-Fraudulent Transactions:  284315\n",
      "Number of Fraudulent Transactions:  492\n",
      "Percentage of Fraudulent Transactions:  0.17\n"
     ]
    }
   ],
   "source": [
    "print(\"Number of Non-Fraudulent Transactions: \",non_fraud)\n",
    "print(\"Number of Fraudulent Transactions: \", fraud)\n",
    "print(\"Percentage of Fraudulent Transactions: \",fraud_percentage)"
   ]
  },
  {
   "cell_type": "markdown",
   "id": "7ef3c8c1-6fcb-4364-bcce-a7ed27d6637f",
   "metadata": {},
   "source": [
    "**Our Non-Fraudulent transactions are over 99%.\n",
    "We will apply scaling techniques on the \"Amount\" feature to transform the range of values.\n",
    "We will drop the original \"Amount\" column and add a new column with the scaled values. We will also drop the \"Time\" columns as it is irrelevant**"
   ]
  },
  {
   "cell_type": "code",
   "execution_count": 16,
   "id": "15878a4d-dcf6-4469-bdce-17277ebdf902",
   "metadata": {},
   "outputs": [],
   "source": [
    "from sklearn.preprocessing import StandardScaler\n",
    "\n",
    "scaler = StandardScaler()\n",
    "\n",
    "df['Scaled_Amount'] = scaler.fit_transform(df['Amount'].values.reshape(-1,1))"
   ]
  },
  {
   "cell_type": "code",
   "execution_count": 17,
   "id": "9dddc253-d391-401e-b562-9a056dd17360",
   "metadata": {},
   "outputs": [],
   "source": [
    "df.drop(columns=['Amount','Time'], inplace=True ,axis=1)\n",
    "\n",
    "Y = df['Class']\n",
    "X = df.drop(['Class'], axis=1)"
   ]
  },
  {
   "cell_type": "markdown",
   "id": "3b8bac5a-da8d-44db-b936-a8fca2307f0a",
   "metadata": {},
   "source": [
    "**Now, we will split the credit card data with a split of 70-30 using train_test_split().\n",
    "train_test_split() function in scikit-learn is a useful utility for splitting a dataset into training and testing sets**"
   ]
  },
  {
   "cell_type": "markdown",
   "id": "f176589d-f4f4-4084-a46d-7822677a6eab",
   "metadata": {},
   "source": [
    "- Parameters   \n",
    "- **X**: Feature matrix  \n",
    "- **Y**: Target variable  \n",
    "- **test_size**: Proportion of the dataset to include in the test split. Here we have set the test_size as 0.3, which means 30% of the data will be used as the testing dataset.  \n",
    "- **random_state**: We have set the seed for random number generation to ensure reproducibility."
   ]
  },
  {
   "cell_type": "code",
   "execution_count": 18,
   "id": "63063c16-b181-4600-854d-975f16db562f",
   "metadata": {},
   "outputs": [],
   "source": [
    "from sklearn.model_selection import train_test_split\n",
    "\n",
    "(train_X, test_X, train_Y, test_Y) = train_test_split(X,Y, test_size=0.3, random_state=42)"
   ]
  },
  {
   "cell_type": "code",
   "execution_count": 19,
   "id": "093cc63c-8af6-4d27-a7e5-40539433fe58",
   "metadata": {},
   "outputs": [
    {
     "name": "stdout",
     "output_type": "stream",
     "text": [
      "Shape of the training dataset train_X:  (199364, 29)\n",
      "Shape of the testing dataset test_X:  (85443, 29)\n"
     ]
    }
   ],
   "source": [
    "print(\"Shape of the training dataset train_X: \", train_X.shape)\n",
    "print(\"Shape of the testing dataset test_X: \", test_X.shape)"
   ]
  },
  {
   "cell_type": "markdown",
   "id": "74f746ce-771e-46af-9743-d5888af4c2d1",
   "metadata": {},
   "source": [
    "**Applying Machine Learning Algorithm to Credit Card Dataset**"
   ]
  },
  {
   "cell_type": "markdown",
   "id": "06e62260-a6a9-4f0a-8ab9-ff037c6faa27",
   "metadata": {},
   "source": [
    "- We will explore various machine learning algorithms to find the most effective model for our binary classification problem.  \n",
    "- The task involves predicting one of the two class labels. We plan to access the performance of different algorithms, such as Random Forest and Decision Tree, to identify the most suitable solution for our specific problem.  "
   ]
  },
  {
   "cell_type": "code",
   "execution_count": 20,
   "id": "72ad75e0-17b7-44b9-ab0f-025a0eb0928a",
   "metadata": {},
   "outputs": [],
   "source": [
    "\n",
    "from sklearn.ensemble import RandomForestClassifier\n",
    "from sklearn.tree import DecisionTreeClassifier"
   ]
  },
  {
   "cell_type": "code",
   "execution_count": 21,
   "id": "a9f8737a-19c0-49a7-be71-930b779b449f",
   "metadata": {},
   "outputs": [],
   "source": [
    "# Decision Tree\n",
    "decision_tree = DecisionTreeClassifier()\n",
    "\n",
    "# Random Forest\n",
    "random_forest = RandomForestClassifier(n_estimators=100)"
   ]
  },
  {
   "cell_type": "markdown",
   "id": "37e20378-6082-4f0b-8f92-566d35ceb245",
   "metadata": {},
   "source": [
    "- Here we are creating a RandomForestClassifier with 100 trees in the forest.  \n",
    "- The large number of trees will generally lead to better performance but also increase the training time.  "
   ]
  },
  {
   "cell_type": "code",
   "execution_count": 23,
   "id": "6f628147-2b0b-436a-ba2a-b0e39ed4173f",
   "metadata": {},
   "outputs": [],
   "source": [
    "# Decision Tree Classifier\n",
    "decision_tree.fit(train_X, train_Y)\n",
    "predictions_data = decision_tree.predict(test_X)"
   ]
  },
  {
   "cell_type": "markdown",
   "id": "91edcffa-ff8d-4bcf-82e4-a428dead00d2",
   "metadata": {},
   "source": [
    "- Now we will check the score of the Decision Tree model"
   ]
  },
  {
   "cell_type": "code",
   "execution_count": 24,
   "id": "3be368d4-3101-4e2d-97bc-ab9e16c439cd",
   "metadata": {},
   "outputs": [
    {
     "name": "stdout",
     "output_type": "stream",
     "text": [
      "Decision Tree Score is:  99.916903666772\n"
     ]
    }
   ],
   "source": [
    "decision_tree_score = decision_tree.score(test_X, test_Y) * 100\n",
    "\n",
    "# Printing the score of the classifier\n",
    "print(\"Decision Tree Score is: \", decision_tree_score)"
   ]
  },
  {
   "cell_type": "code",
   "execution_count": 25,
   "id": "a8fd6a5b-40a5-4d89-a152-d9d693255fc7",
   "metadata": {},
   "outputs": [],
   "source": [
    "# Random Forest\n",
    "random_forest.fit(train_X, train_Y)\n",
    "predictions_data_rf = random_forest.predict(test_X)"
   ]
  },
  {
   "cell_type": "code",
   "execution_count": 26,
   "id": "72aebc13-5dbd-446c-9c16-38ed3a7e2f8a",
   "metadata": {},
   "outputs": [
    {
     "name": "stdout",
     "output_type": "stream",
     "text": [
      "Random Forest Score is:  99.95903701883127\n"
     ]
    }
   ],
   "source": [
    "random_forest_score = random_forest.score(test_X, test_Y) * 100\n",
    "\n",
    "# Printing the score of the Random Forest Classifiers\n",
    "print(\"Random Forest Score is: \", random_forest_score)"
   ]
  },
  {
   "cell_type": "code",
   "execution_count": 27,
   "id": "91e9c6f0-e899-4533-9342-7ef257431c3e",
   "metadata": {},
   "outputs": [
    {
     "name": "stdout",
     "output_type": "stream",
     "text": [
      "Decision Tree:  99.9169\n",
      "Random Forest:  99.959\n"
     ]
    }
   ],
   "source": [
    "# Printing the scores of the both classifiers\n",
    "print(\"Decision Tree: \", round((decision_tree_score),4))\n",
    "print(\"Random Forest: \", round((random_forest_score),4))"
   ]
  },
  {
   "cell_type": "markdown",
   "id": "9b155d18-f516-4b67-8236-401505aa75a2",
   "metadata": {},
   "source": [
    "- The Random Forest classifier has slightly an better results over the Decision Tree Classifier"
   ]
  },
  {
   "cell_type": "code",
   "execution_count": 31,
   "id": "003f7f0a-b925-4da1-928b-0cab9f18e34c",
   "metadata": {},
   "outputs": [],
   "source": [
    "from sklearn.metrics import accuracy_score, precision_score, confusion_matrix, recall_score, f1_score"
   ]
  },
  {
   "cell_type": "markdown",
   "id": "24052b85-f9db-4ea2-82cc-b78a7027abf4",
   "metadata": {},
   "source": [
    "**Evaluation of Decision Tree Model**"
   ]
  },
  {
   "cell_type": "code",
   "execution_count": 33,
   "id": "fbcfbdec-af20-4ed2-bb6f-28fddc9978c1",
   "metadata": {},
   "outputs": [
    {
     "name": "stdout",
     "output_type": "stream",
     "text": [
      "Evaluation of Decision Tree Model: \n",
      "Accuracy: 0.9992\n",
      "Precision: 0.7211\n",
      "recall_score: 0.7794\n",
      "F1-Score: 0.7491\n"
     ]
    }
   ],
   "source": [
    "print(\"Evaluation of Decision Tree Model: \")\n",
    "\n",
    "print(\"Accuracy:\",round(accuracy_score(test_Y,predictions_data),4))\n",
    "print(\"Precision:\",round(precision_score(test_Y,predictions_data),4))\n",
    "print(\"recall_score:\",round(recall_score(test_Y,predictions_data),4))\n",
    "print(\"F1-Score:\",round(f1_score(test_Y,predictions_data),4))"
   ]
  },
  {
   "cell_type": "markdown",
   "id": "86159067-6468-47fb-ab35-7b7e1c1db2f6",
   "metadata": {},
   "source": [
    "**Evaluation of Random Forest Model**"
   ]
  },
  {
   "cell_type": "code",
   "execution_count": 35,
   "id": "04f4c07f-e8b0-47d5-b11d-542fa9d007e0",
   "metadata": {},
   "outputs": [
    {
     "name": "stdout",
     "output_type": "stream",
     "text": [
      "Evaluation of Random Forest Model: \n",
      "Accuracy: 0.9996\n",
      "Precision: 0.9391\n",
      "recall_score: 0.7941\n",
      "F1-Score: 0.8606\n"
     ]
    }
   ],
   "source": [
    "print(\"Evaluation of Random Forest Model: \")\n",
    "\n",
    "print(\"Accuracy:\",round(accuracy_score(test_Y,predictions_data_rf),4))\n",
    "print(\"Precision:\",round(precision_score(test_Y,predictions_data_rf),4))\n",
    "print(\"recall_score:\",round(recall_score(test_Y,predictions_data_rf),4))\n",
    "print(\"F1-Score:\",round(f1_score(test_Y,predictions_data_rf),4))"
   ]
  },
  {
   "cell_type": "code",
   "execution_count": 36,
   "id": "9b4e9f26-9556-4b2e-940b-174ae33f52ef",
   "metadata": {},
   "outputs": [
    {
     "name": "stdout",
     "output_type": "stream",
     "text": [
      "   CM   -  DT\n",
      "[[85266    41]\n",
      " [   30   106]]\n"
     ]
    }
   ],
   "source": [
    "confusion_matrix_dt = confusion_matrix(test_Y, predictions_data.round())\n",
    "print(\"   CM   -  DT\") # CM = Confusion matrix and DT = Decision tree\n",
    "print(confusion_matrix_dt)"
   ]
  },
  {
   "cell_type": "code",
   "execution_count": 65,
   "id": "2ea82b5c-2641-467e-bd40-ae945189e9b1",
   "metadata": {},
   "outputs": [
    {
     "data": {
      "image/png": "[encoded data removed]",
      "text/plain": [
       "<Figure size 800x600 with 2 Axes>"
      ]
     },
     "metadata": {},
     "output_type": "display_data"
    }
   ],
   "source": [
    "# we will plot the confusion matrix\n",
    "plt.figure(figsize=[8,6])\n",
    "sns.heatmap(confusion_matrix_dt, annot=True , fmt='d' , cmap=\"Blues\",\n",
    "            xticklabels=[\"Predicted Non-Fraudulent\" , \"Predicted Fraudulent\"],\n",
    "            yticklabels=[\"Actual Non-Fraudulent\", \"Actual Fraudulent\"])\n",
    "plt.title(\"Confusion Matrix - Decision Tree\")\n",
    "plt.xlabel(\"Predicted Label\")\n",
    "plt.ylabel(\"True Label\")\n",
    "plt.savefig(\"Confusion Matrix - Decision Tree\")\n",
    "plt.show()\n",
    "\n",
    "# 0 - non fraudulent\n",
    "# 1 - fradulent"
   ]
  },
  {
   "cell_type": "markdown",
   "id": "f55241d9-b2e1-4f0f-bd41-afb7b3a94697",
   "metadata": {},
   "source": [
    "We understand from the confusion matrix (Decision Tree):\n",
    "\n",
    "- **Non-Fraudulent transactions:**\n",
    "\n",
    "1.Correctly predicted as non-fraudulent(True Negative) : **85268 transactions.**  \n",
    "2.Incorrectly predicted as fraudulent(False Positive) : **39 transactions.**\n",
    "\n",
    "-**Fraudulent Transactions:**\n",
    "\n",
    "1.Incorrectly predicted as non-fraudulent(False Negative) : **24 transactions**  \n",
    "2.Correctly predicted as fraudulent(True Positive) : **112 transactions**\n",
    "\n",
    "In-short summary:\n",
    "\n",
    "-  The model correctly identified 112 fraudulent transactions.  \n",
    "-  It incorrectly identified 24 transactions as non-fraudulent.  \n",
    "-  It correctly identified 85268 non-fraudulent transactions.  \n",
    "-  It incorrectly identified 39 non-fraudulent transactions as fraudulent.\n",
    "  \n",
    "**Evaluation Metrics and Confusion Matrix of Random Forest model**"
   ]
  },
  {
   "cell_type": "code",
   "execution_count": 39,
   "id": "f91b0ca5-1304-4d27-8873-2b78724eb275",
   "metadata": {},
   "outputs": [
    {
     "name": "stdout",
     "output_type": "stream",
     "text": [
      "   CM   -  RF\n",
      "[[85300     7]\n",
      " [   28   108]]\n"
     ]
    }
   ],
   "source": [
    "# Confusion Matrix\n",
    "confusion_matrix_rf = confusion_matrix(test_Y,predictions_data_rf.round())\n",
    "print(\"   CM   -  RF\") # CM = Confusion matrix and RF = RandomForest\n",
    "print(confusion_matrix_rf)"
   ]
  },
  {
   "cell_type": "code",
   "execution_count": 66,
   "id": "70c7eb03-520d-4e42-ac60-e899290e0bd0",
   "metadata": {},
   "outputs": [
    {
     "data": {
      "image/png": "[encoded data removed]",
      "text/plain": [
       "<Figure size 800x600 with 2 Axes>"
      ]
     },
     "metadata": {},
     "output_type": "display_data"
    }
   ],
   "source": [
    "# we will plot the consfusion matrix\n",
    "plt.figure(figsize=[8,6])\n",
    "sns.heatmap(confusion_matrix_rf, annot=True , fmt='d' , cmap=\"Greens\",\n",
    "            xticklabels=[\"Predicted Non-Fraudulent\" , \"Predicted Fraudulent\"],\n",
    "            yticklabels=[\"Actual Non-Fraudulent\", \"Actual Fraudulent\"])\n",
    "plt.title(\"Confusion Matrix - Random Forest\")\n",
    "plt.xlabel(\"Predicted Label\")\n",
    "plt.ylabel(\"True Label\")\n",
    "plt.savefig(\"Confusion Matrix - Random Forest\")\n",
    "plt.show()\n",
    "\n",
    "# 0 - non fraudulent\n",
    "# 1 - fradulent"
   ]
  },
  {
   "cell_type": "markdown",
   "id": "6952a6e0-657a-4565-b3f8-7ab05c549a4a",
   "metadata": {},
   "source": [
    "We understand from the confusion matrix (Random Forest):\n",
    "\n",
    "- Non-Fraudulent transactions:\n",
    "\n",
    "1.Correctly predicted as non-fraudulent(True Negative) : **85298 transactions.**  \n",
    "2.Incorrectly predicted as fraudulent(False Positive) : **9 transactions.**\n",
    "\n",
    "**- Fraudulent Transactions:**\n",
    "\n",
    "1.Incorrectly predicted as non-fraudulent(False Negative) : **23 transactions**  \n",
    "2.Correctly predicted as fraudulent(True Positive) : **113 transactions**  \n",
    "\n",
    "In-short summary:\n",
    "\n",
    "-  The model correctly identified 113 fraudulent transactions.  \n",
    "-  It incorrectly identified 23 transactions as non-fraudulent.  \n",
    "-  It correctly identified 85298 non-fraudulent transactions.  \n",
    "-  It incorrectly identified only 9 non-fraudulent transactions as fraudulent.  "
   ]
  },
  {
   "cell_type": "code",
   "execution_count": 41,
   "id": "eebeef6f-75e7-4b8d-9ed8-b46ce48972da",
   "metadata": {},
   "outputs": [
    {
     "name": "stdout",
     "output_type": "stream",
     "text": [
      "Resampled shape of X:  (568630, 29)\n",
      "Resampled shape of Y:  (568630,)\n"
     ]
    }
   ],
   "source": [
    "# We will use the SMOT (Synthetic Minority Oversampling Technique, or SMOTE)\n",
    "# It is the method of data augumentation for the minority class.\n",
    "\n",
    "from imblearn.over_sampling import SMOTE\n",
    "\n",
    "X_resampled, Y_resampled = SMOTE().fit_resample(X,Y)\n",
    "\n",
    "print(\"Resampled shape of X: \",X_resampled.shape)\n",
    "print(\"Resampled shape of Y: \",Y_resampled.shape)"
   ]
  },
  {
   "cell_type": "code",
   "execution_count": 42,
   "id": "9adbaf50-8512-4bb8-b53f-405ba6d5e0d0",
   "metadata": {},
   "outputs": [
    {
     "name": "stdout",
     "output_type": "stream",
     "text": [
      "Counter({0: 284315, 1: 284315})\n"
     ]
    }
   ],
   "source": [
    "from collections import Counter\n",
    "value_counts = Counter(Y_resampled)\n",
    "print(value_counts)"
   ]
  },
  {
   "cell_type": "code",
   "execution_count": 43,
   "id": "cdf32efe-d805-4c70-a412-c064cd48d636",
   "metadata": {},
   "outputs": [],
   "source": [
    "(train_X, test_X, train_Y, test_Y) = train_test_split(X_resampled, Y_resampled, test_size=0.3, random_state=42)"
   ]
  },
  {
   "cell_type": "code",
   "execution_count": 44,
   "id": "6c120813-054d-46c4-b990-bd30a73e72cc",
   "metadata": {},
   "outputs": [
    {
     "data": {
      "text/html": [
       "<style>#sk-container-id-1 {color: black;background-color: white;}#sk-container-id-1 pre{padding: 0;}#sk-container-id-1 div.sk-toggleable {background-color: white;}#sk-container-id-1 label.sk-toggleable__label {cursor: pointer;display: block;width: 100%;margin-bottom: 0;padding: 0.3em;box-sizing: border-box;text-align: center;}#sk-container-id-1 label.sk-toggleable__label-arrow:before {content: \"▸\";float: left;margin-right: 0.25em;color: #696969;}#sk-container-id-1 label.sk-toggleable__label-arrow:hover:before {color: black;}#sk-container-id-1 div.sk-estimator:hover label.sk-toggleable__label-arrow:before {color: black;}#sk-container-id-1 div.sk-toggleable__content {max-height: 0;max-width: 0;overflow: hidden;text-align: left;background-color: #f0f8ff;}#sk-container-id-1 div.sk-toggleable__content pre {margin: 0.2em;color: black;border-radius: 0.25em;background-color: #f0f8ff;}#sk-container-id-1 input.sk-toggleable__control:checked~div.sk-toggleable__content {max-height: 200px;max-width: 100%;overflow: auto;}#sk-container-id-1 input.sk-toggleable__control:checked~label.sk-toggleable__label-arrow:before {content: \"▾\";}#sk-container-id-1 div.sk-estimator input.sk-toggleable__control:checked~label.sk-toggleable__label {background-color: #d4ebff;}#sk-container-id-1 div.sk-label input.sk-toggleable__control:checked~label.sk-toggleable__label {background-color: #d4ebff;}#sk-container-id-1 input.sk-hidden--visually {border: 0;clip: rect(1px 1px 1px 1px);clip: rect(1px, 1px, 1px, 1px);height: 1px;margin: -1px;overflow: hidden;padding: 0;position: absolute;width: 1px;}#sk-container-id-1 div.sk-estimator {font-family: monospace;background-color: #f0f8ff;border: 1px dotted black;border-radius: 0.25em;box-sizing: border-box;margin-bottom: 0.5em;}#sk-container-id-1 div.sk-estimator:hover {background-color: #d4ebff;}#sk-container-id-1 div.sk-parallel-item::after {content: \"\";width: 100%;border-bottom: 1px solid gray;flex-grow: 1;}#sk-container-id-1 div.sk-label:hover label.sk-toggleable__label {background-color: #d4ebff;}#sk-container-id-1 div.sk-serial::before {content: \"\";position: absolute;border-left: 1px solid gray;box-sizing: border-box;top: 0;bottom: 0;left: 50%;z-index: 0;}#sk-container-id-1 div.sk-serial {display: flex;flex-direction: column;align-items: center;background-color: white;padding-right: 0.2em;padding-left: 0.2em;position: relative;}#sk-container-id-1 div.sk-item {position: relative;z-index: 1;}#sk-container-id-1 div.sk-parallel {display: flex;align-items: stretch;justify-content: center;background-color: white;position: relative;}#sk-container-id-1 div.sk-item::before, #sk-container-id-1 div.sk-parallel-item::before {content: \"\";position: absolute;border-left: 1px solid gray;box-sizing: border-box;top: 0;bottom: 0;left: 50%;z-index: -1;}#sk-container-id-1 div.sk-parallel-item {display: flex;flex-direction: column;z-index: 1;position: relative;background-color: white;}#sk-container-id-1 div.sk-parallel-item:first-child::after {align-self: flex-end;width: 50%;}#sk-container-id-1 div.sk-parallel-item:last-child::after {align-self: flex-start;width: 50%;}#sk-container-id-1 div.sk-parallel-item:only-child::after {width: 0;}#sk-container-id-1 div.sk-dashed-wrapped {border: 1px dashed gray;margin: 0 0.4em 0.5em 0.4em;box-sizing: border-box;padding-bottom: 0.4em;background-color: white;}#sk-container-id-1 div.sk-label label {font-family: monospace;font-weight: bold;display: inline-block;line-height: 1.2em;}#sk-container-id-1 div.sk-label-container {text-align: center;}#sk-container-id-1 div.sk-container {/* jupyter's `normalize.less` sets `[hidden] { display: none; }` but bootstrap.min.css set `[hidden] { display: none !important; }` so we also need the `!important` here to be able to override the default hidden behavior on the sphinx rendered scikit-learn.org. See: https://github.com/scikit-learn/scikit-learn/issues/21755 */display: inline-block !important;position: relative;}#sk-container-id-1 div.sk-text-repr-fallback {display: none;}</style><div id=\"sk-container-id-1\" class=\"sk-top-container\"><div class=\"sk-text-repr-fallback\"><pre>RandomForestClassifier()</pre><b>In a Jupyter environment, please rerun this cell to show the HTML representation or trust the notebook. <br />On GitHub, the HTML representation is unable to render, please try loading this page with nbviewer.org.</b></div><div class=\"sk-container\" hidden><div class=\"sk-item\"><div class=\"sk-estimator sk-toggleable\"><input class=\"sk-toggleable__control sk-hidden--visually\" id=\"sk-estimator-id-1\" type=\"checkbox\" checked><label for=\"sk-estimator-id-1\" class=\"sk-toggleable__label sk-toggleable__label-arrow\">RandomForestClassifier</label><div class=\"sk-toggleable__content\"><pre>RandomForestClassifier()</pre></div></div></div></div></div>"
      ],
      "text/plain": [
       "RandomForestClassifier()"
      ]
     },
     "execution_count": 44,
     "metadata": {},
     "output_type": "execute_result"
    }
   ],
   "source": [
    "rf_resampled = RandomForestClassifier(n_estimators=100)\n",
    "rf_resampled.fit(train_X, train_Y)"
   ]
  },
  {
   "cell_type": "markdown",
   "id": "636cb808-a696-4811-8a69-9368287832dc",
   "metadata": {},
   "source": [
    "**In a Jupyter environment, please rerun this cell to show the HTML representation or trust the notebook.\n",
    "On GitHub, the HTML representation is unable to render, please try loading this page with nbviewer.org.**"
   ]
  },
  {
   "cell_type": "markdown",
   "id": "9a6ca965-1c03-4740-9e69-0ec3d8671e6d",
   "metadata": {},
   "source": [
    "-  Given that the Random Forest Algorithm out performed the Decision Tree Algorithm, we will now apply the Random Forest algorithm to our resampled data."
   ]
  },
  {
   "cell_type": "code",
   "execution_count": 46,
   "id": "8e5a6d7b-0533-4ba3-8e30-13fcf3d96f4f",
   "metadata": {},
   "outputs": [],
   "source": [
    "predictions_resampled = rf_resampled.predict(test_X)\n",
    "random_forest_score_resampled = rf_resampled.score(test_X, test_Y) * 100"
   ]
  },
  {
   "cell_type": "code",
   "execution_count": 47,
   "id": "ee0116bb-145a-48fe-9a21-f7e44dbe967b",
   "metadata": {},
   "outputs": [
    {
     "name": "stdout",
     "output_type": "stream",
     "text": [
      "99.98827591462522\n"
     ]
    }
   ],
   "source": [
    "print(random_forest_score_resampled)"
   ]
  },
  {
   "cell_type": "markdown",
   "id": "9ac1c2c3-7b4b-4945-9a48-0e5db5933983",
   "metadata": {},
   "source": [
    "**Evaluation Metrics and Confusion matrix**"
   ]
  },
  {
   "cell_type": "code",
   "execution_count": 48,
   "id": "348061b6-8d18-4720-ab91-9f20eb90d4da",
   "metadata": {},
   "outputs": [
    {
     "name": "stdout",
     "output_type": "stream",
     "text": [
      "   CM   -  RF\n",
      "[[85129    20]\n",
      " [    0 85440]]\n"
     ]
    }
   ],
   "source": [
    "# Confusion Matrix\n",
    "confusion_matrix_rf_resampled= confusion_matrix(test_Y,predictions_resampled.round())\n",
    "print(\"   CM   -  RF\") # CM = Confusion matrix and RF = RandomForest\n",
    "print(confusion_matrix_rf_resampled)"
   ]
  },
  {
   "cell_type": "code",
   "execution_count": 69,
   "id": "48ab7559-ee11-4388-ab95-f7145c3efe6a",
   "metadata": {},
   "outputs": [
    {
     "data": {
      "image/png": "[encoded data removed]",
      "text/plain": [
       "<Figure size 800x600 with 2 Axes>"
      ]
     },
     "metadata": {},
     "output_type": "display_data"
    }
   ],
   "source": [
    "# Confusion Matrix\n",
    "plt.figure(figsize=[8,6])\n",
    "sns.heatmap(confusion_matrix_rf_resampled, annot=True , fmt='d' , cmap=\"Greens\",\n",
    "            xticklabels=[\"Predicted Non-Fraudulent\" , \"Predicted Fraudulent\"],\n",
    "            yticklabels=[\"Actual Non-Fraudulent\", \"Actual Fraudulent\"])\n",
    "plt.title(\"Confusion Matrix2 - Random Forest\")\n",
    "plt.xlabel(\"Predicted Label\")\n",
    "plt.ylabel(\"True Label\")\n",
    "plt.savefig(\"Confusion Matrix2 - Random Forest\")\n",
    "plt.show()"
   ]
  },
  {
   "cell_type": "markdown",
   "id": "ee182558-bbeb-44c3-b1a4-e71de77aae82",
   "metadata": {},
   "source": [
    "We understand from the confusion matrix (Random Forest):\n",
    "\n",
    "**- Non-Fraudulent transactions:**\n",
    "\n",
    "1.Correctly predicted as non-fraudulent(True Negative) : **85128 transactions.**  \n",
    "2.Incorrectly predicted as fraudulent(False Positive) : **21 transactions.**\n",
    "\n",
    "**- Fraudulent Transactions:**\n",
    "\n",
    "1.Incorrectly predicted as non-fraudulent(False Negative) : **0 transaction.**  \n",
    "2.Correctly predicted as fraudulent(True Positive) : **85440 transactions.**\n",
    "\n",
    "We understand from the confusion Matrix is:\n",
    "\n",
    "-  The model correctly identified 85440 fraudulent transactions.\n",
    "-  It incorrectly identified 0 transactions as non-fraudulent.\n",
    "-  It correctly identified 85128 non-fraudulent transactions.\n",
    "-  It incorrectly identified only 21 non-fraudulent transactions as fraudulent."
   ]
  },
  {
   "cell_type": "code",
   "execution_count": 51,
   "id": "ec6c6abf-975c-4771-98dc-0090cbe08816",
   "metadata": {},
   "outputs": [
    {
     "name": "stdout",
     "output_type": "stream",
     "text": [
      "Evaluation of Resampled Random Forest Model: \n",
      "Accuracy: 0.9999\n",
      "Precision: 0.9998\n",
      "recall_score: 1.0\n",
      "F1-Score: 0.9999\n"
     ]
    }
   ],
   "source": [
    "print(\"Evaluation of Resampled Random Forest Model: \")\n",
    "\n",
    "print(\"Accuracy:\",round(accuracy_score(test_Y,predictions_resampled),4))\n",
    "print(\"Precision:\",round(precision_score(test_Y,predictions_resampled),4))\n",
    "print(\"recall_score:\",round(recall_score(test_Y,predictions_resampled),4))\n",
    "print(\"F1-Score:\",round(f1_score(test_Y,predictions_resampled),4))"
   ]
  },
  {
   "cell_type": "markdown",
   "id": "c20f9853-a4eb-4d65-b569-3ced9c7e8917",
   "metadata": {},
   "source": [
    "-  We can see that our model performed much better than the previous Random Forest classifier without oversampling.\n",
    "-  We have applied the techniques to address the class imbalance issues and achieved an accuracy of more than 99%.\n",
    "-  We will import the pickle to dump the dataframe and the model for the model deployement as the future scope."
   ]
  },
  {
   "cell_type": "code",
   "execution_count": 61,
   "id": "fb80c0c1-ae93-447b-952f-1427298c9dd2",
   "metadata": {},
   "outputs": [],
   "source": [
    "import pickle\n",
    "pickle.dump(df,open('df.pkl','wb'))\n",
    "pickle.dump(rf_resampled,open('rf_resampled.pkl','wb'))"
   ]
  },
  {
   "cell_type": "code",
   "execution_count": null,
   "id": "11a746a1-6124-4072-bd06-4ff271c13142",
   "metadata": {},
   "outputs": [],
   "source": []
  },
  {
   "cell_type": "code",
   "execution_count": null,
   "id": "77c022c4-3a9f-4515-906d-746c3d671561",
   "metadata": {},
   "outputs": [],
   "source": []
  },
  {
   "cell_type": "code",
   "execution_count": null,
   "id": "b8a509de-2613-4d25-8ab4-fdf5f3107808",
   "metadata": {},
   "outputs": [],
   "source": []
  },
  {
   "cell_type": "code",
   "execution_count": null,
   "id": "b501a7b8-ff97-442f-b5da-a803f6c743d3",
   "metadata": {},
   "outputs": [],
   "source": []
  },
  {
   "cell_type": "code",
   "execution_count": null,
   "id": "9690fcd5-1dd6-4cce-84ae-887ad9bce97c",
   "metadata": {},
   "outputs": [],
   "source": []
  },
  {
   "cell_type": "code",
   "execution_count": null,
   "id": "806202e7-f5f6-479d-bfc0-b5273a7ef557",
   "metadata": {},
   "outputs": [],
   "source": []
  }
 ],
 "metadata": {
  "kernelspec": {
   "display_name": "Python 3 (ipykernel)",
   "language": "python",
   "name": "python3"
  },
  "language_info": {
   "codemirror_mode": {
    "name": "ipython",
    "version": 3
   },
   "file_extension": ".py",
   "mimetype": "text/x-python",
   "name": "python",
   "nbconvert_exporter": "python",
   "pygments_lexer": "ipython3",
   "version": "3.11.7"
  }
 },
 "nbformat": 4,
 "nbformat_minor": 5
}
